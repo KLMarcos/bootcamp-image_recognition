{
 "cells": [
  {
   "cell_type": "code",
   "execution_count": null,
   "metadata": {},
   "outputs": [],
   "source": [
    "%matplotlib inline"
   ]
  },
  {
   "cell_type": "markdown",
   "metadata": {},
   "source": [
    "### Database MNIST usando Keras\n",
    "\n",
    "Vamos trabalhar agora com um dataset de imagens muito conhecido, chamado MNIST. Esse dataset possui imagens de números separados em 10 classes (de 0 a 9)."
   ]
  },
  {
   "cell_type": "code",
   "execution_count": 1,
   "metadata": {},
   "outputs": [
    {
     "name": "stderr",
     "output_type": "stream",
     "text": [
      "Using TensorFlow backend.\n"
     ]
    }
   ],
   "source": [
    "import numpy as np\n",
    "from random import shuffle, seed\n",
    "seed(42)\n",
    "import matplotlib.pyplot as plt\n",
    "plt.rcParams['figure.figsize'] = (10,10)\n",
    "\n",
    "from keras.datasets import mnist\n",
    "from keras.models import Sequential\n",
    "from keras.layers.core import Dense, Dropout, Activation\n",
    "from keras.utils import np_utils\n",
    "from keras import optimizers"
   ]
  },
  {
   "cell_type": "markdown",
   "metadata": {},
   "source": [
    "Vamos carregar nosso dataset e verificar qual as dimensões dos dados."
   ]
  },
  {
   "cell_type": "code",
   "execution_count": 2,
   "metadata": {},
   "outputs": [
    {
     "name": "stdout",
     "output_type": "stream",
     "text": [
      "Downloading data from https://s3.amazonaws.com/img-datasets/mnist.npz\n",
      "11493376/11490434 [==============================] - 12s 1us/step\n",
      "X_train original shape (60000, 28, 28)\n",
      "y_train original shape (60000,)\n",
      "\n",
      "X_test original shape (10000, 28, 28)\n",
      "y_test original shape (10000,)\n"
     ]
    }
   ],
   "source": [
    "mnist_classes = 10\n",
    "\n",
    "# the data, shuffled and split between train and test sets\n",
    "(X_train, y_train), (X_test, y_test) = mnist.load_data()\n",
    "print(\"X_train original shape\", X_train.shape)\n",
    "print(\"y_train original shape\", y_train.shape)\n",
    "\n",
    "print(\"\\nX_test original shape\", X_test.shape)\n",
    "print(\"y_test original shape\", y_test.shape)"
   ]
  },
  {
   "cell_type": "markdown",
   "metadata": {},
   "source": [
    "Neste exemplo, iremos dividir o dataset de treinamento em 2 partes: um dataset maior, que continuará sendo usado para treinamento e outro menor que será usado para validação antes do teste. Vamos entender melhor essa abordagem mais a frente."
   ]
  },
  {
   "cell_type": "code",
   "execution_count": 3,
   "metadata": {},
   "outputs": [
    {
     "name": "stdout",
     "output_type": "stream",
     "text": [
      "X_train shape (48000, 28, 28)\n",
      "y_train shape (48000,)\n",
      "X_val shape (12000, 28, 28)\n",
      "y_val shape (12000,)\n"
     ]
    }
   ],
   "source": [
    "# 80% para treino e 20% para validação\n",
    "nData = X_train.shape[0]\n",
    "nTrain = int(nData * 0.8)\n",
    "\n",
    "randomIdx = list(range(nData))   #randomly select indexes\n",
    "shuffle(randomIdx)\n",
    "trainIdx = randomIdx[:nTrain] \n",
    "valIdx = randomIdx[nTrain:]\n",
    "\n",
    "# Split the data\n",
    "X_val, y_val = X_train[valIdx], y_train[valIdx]\n",
    "X_train, y_train = X_train[trainIdx], y_train[trainIdx]\n",
    "\n",
    "print(\"X_train shape\", X_train.shape)\n",
    "print(\"y_train shape\", y_train.shape)\n",
    "\n",
    "print(\"X_val shape\", X_val.shape)\n",
    "print(\"y_val shape\", y_val.shape)"
   ]
  },
  {
   "cell_type": "markdown",
   "metadata": {},
   "source": [
    "Vamos dar uma olhada em alguns exemplos do nosso dataset de treinamento:"
   ]
  },
  {
   "cell_type": "code",
   "execution_count": 4,
   "metadata": {},
   "outputs": [
    {
     "data": {
      "image/png": "[encoded data removed]",
      "text/plain": [
       "<Figure size 432x288 with 9 Axes>"
      ]
     },
     "metadata": {
      "needs_background": "light"
     },
     "output_type": "display_data"
    }
   ],
   "source": [
    "for i in range(9):\n",
    "    plt.subplot(3,3,i+1)\n",
    "    plt.imshow(X_train[i], cmap='gray', interpolation='none')\n",
    "    plt.title(\"Class {}\".format(y_train[i]))"
   ]
  },
  {
   "cell_type": "markdown",
   "metadata": {},
   "source": [
    "Vamos checar também o balanceamento do nosso dataset, ou seja, quantos exemplos nós temos de cada classe? Datasets desbalanceados podem gerar problemas durante o treinamento do modelo. Nesses casos, alguma medida deve ser tomada, como calcular pesos para cada classe, gerar mais exemplos de classes com poucos exemplos, entre outras."
   ]
  },
  {
   "cell_type": "code",
   "execution_count": 5,
   "metadata": {},
   "outputs": [
    {
     "name": "stdout",
     "output_type": "stream",
     "text": [
      "Train --->  {0: 4724, 1: 5393, 2: 4723, 3: 4881, 4: 4704, 5: 4313, 6: 4769, 7: 5001, 8: 4730, 9: 4762} \n",
      "\n",
      "Test --->  {0: 980, 1: 1135, 2: 1032, 3: 1010, 4: 982, 5: 892, 6: 958, 7: 1028, 8: 974, 9: 1009} \n",
      "\n"
     ]
    }
   ],
   "source": [
    "unique, counts = np.unique(y_train, return_counts=True)\n",
    "print (\"Train ---> \", dict(zip(unique, counts)), \"\\n\")\n",
    "\n",
    "unique, counts = np.unique(y_test, return_counts=True)\n",
    "print(\"Test ---> \", dict(zip(unique, counts)), \"\\n\")"
   ]
  },
  {
   "cell_type": "markdown",
   "metadata": {},
   "source": [
    "Vamos formatar os dados para o treinamento para que cada imagem 28x28 seja um vetor de dimensão 784. Vamos também mudar o range dos dados de entrada de [0-255] para [0-1]. Além disso, nosso vetor y será modificado para que cada classe represente uma coluna."
   ]
  },
  {
   "cell_type": "code",
   "execution_count": 6,
   "metadata": {},
   "outputs": [
    {
     "name": "stdout",
     "output_type": "stream",
     "text": [
      "X_train matrix shape (48000, 784)\n",
      "Validation matrix shape (12000, 784)\n",
      "X_test matrix shape (10000, 784)\n",
      "\n",
      "y_train matrix shape (48000, 10)\n",
      "y_train matrix shape (12000, 10)\n",
      "y_test matrix shape (10000, 10)\n"
     ]
    }
   ],
   "source": [
    "# reshape images\n",
    "X_train = X_train.reshape(48000, 784)\n",
    "X_val = X_val.reshape(12000, 784)\n",
    "X_test = X_test.reshape(10000, 784)\n",
    "\n",
    "X_train = X_train.astype('float32')\n",
    "X_val = X_val.astype('float32')\n",
    "X_test = X_test.astype('float32')\n",
    "\n",
    "X_train = X_train / 255\n",
    "X_val = X_val / 255\n",
    "X_test = X_test / 255\n",
    "\n",
    "print(\"X_train matrix shape\", X_train.shape)\n",
    "print(\"Validation matrix shape\", X_val.shape)\n",
    "print(\"X_test matrix shape\", X_test.shape)\n",
    "\n",
    "Y_train = np_utils.to_categorical(y_train, mnist_classes)\n",
    "Y_val = np_utils.to_categorical(y_val, mnist_classes)\n",
    "Y_test = np_utils.to_categorical(y_test, mnist_classes)\n",
    "\n",
    "print(\"\\ny_train matrix shape\", Y_train.shape)\n",
    "print(\"y_train matrix shape\", Y_val.shape)\n",
    "print(\"y_test matrix shape\", Y_test.shape)"
   ]
  },
  {
   "cell_type": "markdown",
   "metadata": {},
   "source": [
    "### Construindo a rede neural\n",
    "\n",
    "Vamos agora construir nossa rede neural para treinamento. Utilizaremos nesse exemplo uma rede com 3 camadas completamente conectadas (neste tipo de camada, cada nó é conectado a todos os dados de entrada, ou pixels):\n",
    "- 1 camada de entrada com 512 nós, com ativação 'relu' e dropout de 0.2\n",
    "- 1 camada escondida com 512 nós, ativação 'relu' e dropout de 0.2\n",
    "- 1 camada de saída com ativação 'softmax'\n",
    "\n"
   ]
  },
  {
   "cell_type": "code",
   "execution_count": 7,
   "metadata": {},
   "outputs": [],
   "source": [
    "# create the model\n",
    "\n",
    "model = Sequential()\n",
    "model.add(Dense(512, input_shape=(784,)))\n",
    "model.add(Activation('relu'))\n",
    "                           \n",
    "model.add(Dropout(0.2))   \n",
    "model.add(Dense(512))\n",
    "model.add(Activation('relu'))\n",
    "model.add(Dropout(0.2))\n",
    "model.add(Dense(10))\n",
    "model.add(Activation('softmax'))"
   ]
  },
  {
   "cell_type": "markdown",
   "metadata": {},
   "source": [
    "Vamos agora compilar nosso modelo. Keras pede para que você especifique pelo menos 2 parâmetros: **loss function** (função de perda) e o **optimizer** (otimizador).\n",
    "\n",
    "Vamos utilizar nesse caso a função de perda *categorical_crossentropy*, utilizada para comparar duas distribuições de probabilidades. Por exemplo, o objetivo do nosso modelo é calcular uma distribuição de probabilidade de 100% para a classe correta e 0% para todas as outras. A cross_entropy calcula a diferença entre a distribuição ideal e a calculada pelo nosso modelo. Você pode ler mais sobre isso no [Wikipedia](https://en.wikipedia.org/wiki/Cross_entropy).\n",
    "\n",
    "O otimizador ajuda o modelo a determinar quão rápido o modelo aprende, ou o quanto ele é resistente a travamentos. Não entraremos em muitos detalhes aqui, mas vamos utilizar o otimizador *adam*, que geralmente é uma boa escolha.\n",
    "\n",
    "Além disso, vamos adicionar a métrica de acurácia, para que esta apareça durante o treinamento."
   ]
  },
  {
   "cell_type": "code",
   "execution_count": 8,
   "metadata": {},
   "outputs": [],
   "source": [
    "model.compile(loss='categorical_crossentropy', optimizer='adam', metrics=['accuracy'])"
   ]
  },
  {
   "cell_type": "markdown",
   "metadata": {},
   "source": [
    "### Treinando o Modelo\n",
    "\n",
    "Vamos agora treinar o modelo. Vamos entender mais alguns parâmetros do nosso treinamento:\n",
    "- **batch_size**: ao invés de otimizar nossa rede para todo o dataset treinamento, nós a otimizamos por \"batches\" (pequenas amostragens do datset de treinamento). No nosso caso, vamos atualizar os pesos após processar 128 imagens.\n",
    "- **validation_data**: depois de cada época, nosso modelo vai predizer as perdas e acurácia para o dataset de validação."
   ]
  },
  {
   "cell_type": "code",
   "execution_count": 9,
   "metadata": {},
   "outputs": [
    {
     "name": "stdout",
     "output_type": "stream",
     "text": [
      "Train on 48000 samples, validate on 12000 samples\n",
      "Epoch 1/8\n",
      "48000/48000 [==============================] - 6s 118us/step - loss: 0.2778 - accuracy: 0.9165 - val_loss: 0.1275 - val_accuracy: 0.9624\n",
      "Epoch 2/8\n",
      "48000/48000 [==============================] - 5s 114us/step - loss: 0.1112 - accuracy: 0.9663 - val_loss: 0.0986 - val_accuracy: 0.9711\n",
      "Epoch 3/8\n",
      "48000/48000 [==============================] - 6s 116us/step - loss: 0.0765 - accuracy: 0.9768 - val_loss: 0.0829 - val_accuracy: 0.9763\n",
      "Epoch 4/8\n",
      "48000/48000 [==============================] - 5s 114us/step - loss: 0.0583 - accuracy: 0.9809 - val_loss: 0.0856 - val_accuracy: 0.9750\n",
      "Epoch 5/8\n",
      "48000/48000 [==============================] - 6s 116us/step - loss: 0.0471 - accuracy: 0.9848 - val_loss: 0.0768 - val_accuracy: 0.9772\n",
      "Epoch 6/8\n",
      "48000/48000 [==============================] - 6s 115us/step - loss: 0.0405 - accuracy: 0.9864 - val_loss: 0.0765 - val_accuracy: 0.9795\n",
      "Epoch 7/8\n",
      "48000/48000 [==============================] - 5s 114us/step - loss: 0.0336 - accuracy: 0.9889 - val_loss: 0.0787 - val_accuracy: 0.9797\n",
      "Epoch 8/8\n",
      "48000/48000 [==============================] - 6s 122us/step - loss: 0.0335 - accuracy: 0.9889 - val_loss: 0.0787 - val_accuracy: 0.9788\n"
     ]
    },
    {
     "data": {
      "text/plain": [
       "<keras.callbacks.callbacks.History at 0x18f5b170948>"
      ]
     },
     "execution_count": 9,
     "metadata": {},
     "output_type": "execute_result"
    }
   ],
   "source": [
    "model.fit(X_train, Y_train,\n",
    "          batch_size=128, epochs=8, verbose=1, \n",
    "          validation_data=(X_val, Y_val))"
   ]
  },
  {
   "cell_type": "markdown",
   "metadata": {},
   "source": [
    "Vamos agora, avaliar nossos resultados."
   ]
  },
  {
   "cell_type": "code",
   "execution_count": 10,
   "metadata": {},
   "outputs": [
    {
     "name": "stdout",
     "output_type": "stream",
     "text": [
      "10000/10000 [==============================] - 0s 44us/step\n",
      "Test score: 0.08207629336335522\n",
      "Test accuracy: 0.9772999882698059\n"
     ]
    }
   ],
   "source": [
    "score = model.evaluate(X_test, Y_test, verbose=1)\n",
    "print('Test score:', score[0])\n",
    "print('Test accuracy:', score[1])"
   ]
  },
  {
   "cell_type": "markdown",
   "metadata": {},
   "source": [
    "Vamos inspecionar também alguns exemplos que foram corretamente preditos e alguns que não."
   ]
  },
  {
   "cell_type": "code",
   "execution_count": 11,
   "metadata": {},
   "outputs": [
    {
     "data": {
      "image/png": "[encoded data removed]",
      "text/plain": [
       "<Figure size 432x288 with 9 Axes>"
      ]
     },
     "metadata": {
      "needs_background": "light"
     },
     "output_type": "display_data"
    },
    {
     "data": {
      "image/png": "[encoded data removed]",
      "text/plain": [
       "<Figure size 432x288 with 9 Axes>"
      ]
     },
     "metadata": {
      "needs_background": "light"
     },
     "output_type": "display_data"
    }
   ],
   "source": [
    "# The predict_classes function outputs the highest probability class\n",
    "# according to the trained classifier for each input example.\n",
    "predicted_classes = model.predict_classes(X_test)\n",
    "\n",
    "# Check which items we got right / wrong\n",
    "correct_indices = np.nonzero(predicted_classes == y_test)[0]\n",
    "incorrect_indices = np.nonzero(predicted_classes != y_test)[0]\n",
    "\n",
    "plt.figure()\n",
    "for i, correct in enumerate(correct_indices[:9]):\n",
    "    plt.subplot(3,3,i+1)\n",
    "    plt.imshow(X_test[correct].reshape(28,28), cmap='gray', interpolation='none')\n",
    "    plt.title(\"Predicted {}, Class {}\".format(predicted_classes[correct], y_test[correct]))\n",
    "    \n",
    "plt.figure()\n",
    "for i, incorrect in enumerate(incorrect_indices[:9]):\n",
    "    plt.subplot(3,3,i+1)\n",
    "    plt.imshow(X_test[incorrect].reshape(28,28), cmap='gray', interpolation='none')\n",
    "    plt.title(\"Predicted {}, Class {}\".format(predicted_classes[incorrect], y_test[incorrect]))"
   ]
  },
  {
   "cell_type": "markdown",
   "metadata": {},
   "source": [
    "## Parte 2 - Usando uma rede neural convulacional\n",
    "\n",
    "Vamos agora abordar o mesmo dataset, mas utilizando uma rede convolucional (CNN)."
   ]
  },
  {
   "cell_type": "code",
   "execution_count": 12,
   "metadata": {},
   "outputs": [],
   "source": [
    "from keras.layers.core import Flatten\n",
    "from keras.layers import Conv2D, MaxPooling2D"
   ]
  },
  {
   "cell_type": "markdown",
   "metadata": {},
   "source": [
    "Usaremos a mesma base de dados do exemplo anterior, mas precisamos refazer nosso pré-processamento dos dados. Redes CNN operam com imagens como entrada, portanto não é necessário transformar as imagens em vetores. Imagens coloridas normalmente tem 3 canais (RGC), mas no caso do nosso dataset, as imagens estão em escala de cinza que só tem um canal.\n",
    "\n",
    "Além disso, continuaremos alterando o range dos dados para [0-1]. Podemos fazer outros tipos de pre-processamento aqui, como normalização, corte de imagens, escala... mas não entraremos em maiores detalhes."
   ]
  },
  {
   "cell_type": "code",
   "execution_count": 13,
   "metadata": {},
   "outputs": [
    {
     "name": "stdout",
     "output_type": "stream",
     "text": [
      "X_train original shape (60000, 28, 28)\n",
      "y_train original shape (60000,)\n",
      "X_test original shape (10000, 28, 28)\n",
      "y_test original shape (10000,)\n",
      "X_train shape (48000, 28, 28)\n",
      "y_train shape (48000,)\n",
      "X_val shape (12000, 28, 28)\n",
      "y_val shape (12000,)\n",
      "Training matrix shape (48000, 28, 28, 1)\n",
      "Validation matrix shape (12000, 28, 28, 1)\n",
      "Testing matrix shape (10000, 28, 28, 1)\n"
     ]
    }
   ],
   "source": [
    "# the data, shuffled and split between train and test sets\n",
    "(X_train, y_train), (X_test, y_test) = mnist.load_data()\n",
    "\n",
    "print(\"X_train original shape\", X_train.shape)\n",
    "print(\"y_train original shape\", y_train.shape)\n",
    "\n",
    "print(\"X_test original shape\", X_test.shape)\n",
    "print(\"y_test original shape\", y_test.shape)\n",
    "\n",
    "# 80% para treino e 20% para validação\n",
    "nData = X_train.shape[0]\n",
    "nTrain = int(nData * 0.8)\n",
    "\n",
    "randomIdx = list(range(nData))   #randomly select indexes\n",
    "shuffle(randomIdx)\n",
    "trainIdx = randomIdx[:nTrain] \n",
    "valIdx = randomIdx[nTrain:]\n",
    "\n",
    "# Split the data\n",
    "X_val, y_val = X_train[valIdx], y_train[valIdx]\n",
    "X_train, y_train = X_train[trainIdx], y_train[trainIdx]\n",
    "\n",
    "print(\"X_train shape\", X_train.shape)\n",
    "print(\"y_train shape\", y_train.shape)\n",
    "\n",
    "print(\"X_val shape\", X_val.shape)\n",
    "print(\"y_val shape\", y_val.shape)\n",
    "\n",
    "img_rows, img_cols = 28, 28\n",
    "\n",
    "#The first dimension refers to the number of images\n",
    "X_train = X_train.reshape(X_train.shape[0], img_rows, img_cols, 1)\n",
    "X_val = X_val.reshape(X_val.shape[0], img_rows, img_cols, 1)\n",
    "X_test = X_test.reshape(X_test.shape[0], img_rows, img_cols, 1)\n",
    "\n",
    "X_train = X_train.astype('float32')\n",
    "X_val = X_val.astype('float32')\n",
    "X_test = X_test.astype('float32')\n",
    "\n",
    "X_train /= 255\n",
    "X_val /= 255\n",
    "X_test /= 255\n",
    "\n",
    "print(\"Training matrix shape\", X_train.shape)\n",
    "print(\"Validation matrix shape\", X_val.shape)\n",
    "print(\"Testing matrix shape\", X_test.shape)\n",
    "\n",
    "Y_train = np_utils.to_categorical(y_train, mnist_classes)\n",
    "Y_val = np_utils.to_categorical(y_val, mnist_classes)\n",
    "Y_test = np_utils.to_categorical(y_test, mnist_classes)"
   ]
  },
  {
   "cell_type": "markdown",
   "metadata": {},
   "source": [
    "### Definindo nossa arquitetura\n",
    "\n",
    "Vamos definir uma rede CNN simples com algumas camadas comuns nesse tipo de abordagem:\n",
    "\n",
    "- Uma camada convolucional com 10 filtros de tamanho 5x5, com ativação *relu* (saída = 24x24x10)\n",
    "- Uma camada de max pooling com kernel 2x2, que reduzirá as dimensões de cada imagem pela metade (saída = 12x12x10)\n",
    "- Uma operação de flatten, que mapeará a imagem para um array (saída = 12x12x10 = 1440)\n",
    "- Uma camada de dropout de 0.25\n",
    "- Uma camada de saída completamente conectada com ativação softmax"
   ]
  },
  {
   "cell_type": "code",
   "execution_count": 14,
   "metadata": {},
   "outputs": [],
   "source": [
    "# Define your model here\n",
    "model = Sequential()\n",
    "#Conv layer with 10 filters of size 5x5 and ReLU activation\n",
    "model.add(Conv2D(10, kernel_size=(5, 5),\n",
    "activation='relu', #ReLU activation\n",
    "input_shape=(28, 28, 1))) #no need to include the batch size\n",
    "\n",
    "#Max pooling of size 2x2\n",
    "model.add(MaxPooling2D(pool_size=(2, 2)))\n",
    "\n",
    "#Flatten operation\n",
    "model.add(Flatten())\n",
    "\n",
    "#Dropout with probability 0.25\n",
    "model.add(Dropout(0.25))\n",
    "\n",
    "#FC layer with 10 neurons and softmax activation\n",
    "model.add(Dense(mnist_classes, activation='softmax'))"
   ]
  },
  {
   "cell_type": "markdown",
   "metadata": {},
   "source": [
    "### Compilando o modelo\n",
    "\n",
    "Vamos definir nossa função de perda e o otimizador para treinarmos nossa CNN. Nesse caso, vamos criar nosso próprio otimizador usando a função SGD. O otimizador SGD é uma variação do *Gradient Descent*, chamado *Stocastic Gradient Descent*. Ao invés de considerar todos os dados de treinamento para cada iteração do otimizador, SGD usa apenas uma amostra dos dados de treinamento de cada vez. Poderíamos ter passado o otimizador diretamente usando a string padrão 'sgd'."
   ]
  },
  {
   "cell_type": "code",
   "execution_count": 15,
   "metadata": {},
   "outputs": [],
   "source": [
    "sgd = optimizers.SGD(lr=0.01) #lr = learning rate\n",
    "model.compile(loss='categorical_crossentropy', optimizer=sgd, metrics=['accuracy'])"
   ]
  },
  {
   "cell_type": "markdown",
   "metadata": {},
   "source": [
    "### Treinando o modelo"
   ]
  },
  {
   "cell_type": "code",
   "execution_count": 16,
   "metadata": {},
   "outputs": [
    {
     "name": "stdout",
     "output_type": "stream",
     "text": [
      "Train on 48000 samples, validate on 12000 samples\n",
      "Epoch 1/3\n",
      "48000/48000 [==============================] - 5s 109us/step - loss: 1.2879 - accuracy: 0.6325 - val_loss: 0.5089 - val_accuracy: 0.8674\n",
      "Epoch 2/3\n",
      "48000/48000 [==============================] - 5s 106us/step - loss: 0.4924 - accuracy: 0.8554 - val_loss: 0.3786 - val_accuracy: 0.8953\n",
      "Epoch 3/3\n",
      "48000/48000 [==============================] - 5s 107us/step - loss: 0.4120 - accuracy: 0.8767 - val_loss: 0.3338 - val_accuracy: 0.9067\n"
     ]
    },
    {
     "data": {
      "text/plain": [
       "<keras.callbacks.callbacks.History at 0x18f57f34b48>"
      ]
     },
     "execution_count": 16,
     "metadata": {},
     "output_type": "execute_result"
    }
   ],
   "source": [
    "model.fit(X_train, Y_train,\n",
    "          batch_size=128, epochs=3, verbose=1,\n",
    "          validation_data=(X_val, Y_val))"
   ]
  },
  {
   "cell_type": "markdown",
   "metadata": {},
   "source": [
    "### Avaliando os resultados"
   ]
  },
  {
   "cell_type": "code",
   "execution_count": 17,
   "metadata": {},
   "outputs": [
    {
     "name": "stdout",
     "output_type": "stream",
     "text": [
      "10000/10000 [==============================] - 1s 69us/step\n",
      "Test loss: 0.3097616092443466\n",
      "Test accuracy (NOT NORMALIZED): 0.9165999889373779\n"
     ]
    }
   ],
   "source": [
    "score = model.evaluate(X_test, Y_test, verbose=1)\n",
    "print('Test loss:', score[0])\n",
    "print('Test accuracy (NOT NORMALIZED):', score[1])"
   ]
  },
  {
   "cell_type": "code",
   "execution_count": null,
   "metadata": {},
   "outputs": [],
   "source": []
  }
 ],
 "metadata": {
  "kernelspec": {
   "display_name": "Python 3",
   "language": "python",
   "name": "python3"
  },
  "language_info": {
   "codemirror_mode": {
    "name": "ipython",
    "version": 3
   },
   "file_extension": ".py",
   "mimetype": "text/x-python",
   "name": "python",
   "nbconvert_exporter": "python",
   "pygments_lexer": "ipython3",
   "version": "3.7.4"
  }
 },
 "nbformat": 4,
 "nbformat_minor": 2
}
